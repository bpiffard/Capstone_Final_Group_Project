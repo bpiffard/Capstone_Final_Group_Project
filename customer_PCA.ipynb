{
 "cells": [
  {
   "cell_type": "code",
   "execution_count": 1,
   "metadata": {},
   "outputs": [],
   "source": [
    "# Import dependencies\n",
    "# import numpy as np\n",
    "import pandas as pd\n",
    "# from sklearn.model_selection import train_test_split\n",
    "# from sklearn.linear_model import LinearRegression\n",
    "# from sklearn.metrics import r2_score\n",
    "# import matplotlib.pyplot as plt\n",
    "# import seaborn as sns\n",
    "# import warnings\n",
    "# warnings.filterwarnings(\"ignore\")"
   ]
  },
  {
   "cell_type": "code",
   "execution_count": 2,
   "metadata": {},
   "outputs": [
    {
     "data": {
      "text/html": [
       "<div>\n",
       "<style scoped>\n",
       "    .dataframe tbody tr th:only-of-type {\n",
       "        vertical-align: middle;\n",
       "    }\n",
       "\n",
       "    .dataframe tbody tr th {\n",
       "        vertical-align: top;\n",
       "    }\n",
       "\n",
       "    .dataframe thead th {\n",
       "        text-align: right;\n",
       "    }\n",
       "</style>\n",
       "<table border=\"1\" class=\"dataframe\">\n",
       "  <thead>\n",
       "    <tr style=\"text-align: right;\">\n",
       "      <th></th>\n",
       "      <th>id</th>\n",
       "      <th>marital_status</th>\n",
       "      <th>gender</th>\n",
       "      <th>total_children</th>\n",
       "      <th>education</th>\n",
       "      <th>member_card</th>\n",
       "      <th>occupation</th>\n",
       "      <th>houseowner</th>\n",
       "      <th>avg_cars_at home(approx)</th>\n",
       "      <th>avg. yearly_income</th>\n",
       "      <th>num_children_at_home</th>\n",
       "      <th>store_city</th>\n",
       "      <th>store_state</th>\n",
       "      <th>media_type</th>\n",
       "      <th>cost</th>\n",
       "      <th>promotion_name</th>\n",
       "    </tr>\n",
       "  </thead>\n",
       "  <tbody>\n",
       "    <tr>\n",
       "      <th>0</th>\n",
       "      <td>0</td>\n",
       "      <td>M</td>\n",
       "      <td>F</td>\n",
       "      <td>1.0</td>\n",
       "      <td>Partial High School</td>\n",
       "      <td>Normal</td>\n",
       "      <td>Skilled Manual</td>\n",
       "      <td>Y</td>\n",
       "      <td>1.0</td>\n",
       "      <td>$10K - $30K</td>\n",
       "      <td>1.0</td>\n",
       "      <td>Salem</td>\n",
       "      <td>OR</td>\n",
       "      <td>Daily Paper, Radio</td>\n",
       "      <td>126.62</td>\n",
       "      <td>Bag Stuffers</td>\n",
       "    </tr>\n",
       "    <tr>\n",
       "      <th>1</th>\n",
       "      <td>1</td>\n",
       "      <td>M</td>\n",
       "      <td>M</td>\n",
       "      <td>0.0</td>\n",
       "      <td>Bachelors Degree</td>\n",
       "      <td>Silver</td>\n",
       "      <td>Professional</td>\n",
       "      <td>Y</td>\n",
       "      <td>4.0</td>\n",
       "      <td>$50K - $70K</td>\n",
       "      <td>0.0</td>\n",
       "      <td>Salem</td>\n",
       "      <td>OR</td>\n",
       "      <td>Daily Paper, Radio</td>\n",
       "      <td>59.86</td>\n",
       "      <td>Cash Register Lottery</td>\n",
       "    </tr>\n",
       "    <tr>\n",
       "      <th>2</th>\n",
       "      <td>2</td>\n",
       "      <td>S</td>\n",
       "      <td>F</td>\n",
       "      <td>4.0</td>\n",
       "      <td>Partial High School</td>\n",
       "      <td>Normal</td>\n",
       "      <td>Manual</td>\n",
       "      <td>N</td>\n",
       "      <td>1.0</td>\n",
       "      <td>$10K - $30K</td>\n",
       "      <td>0.0</td>\n",
       "      <td>Salem</td>\n",
       "      <td>OR</td>\n",
       "      <td>Daily Paper, Radio</td>\n",
       "      <td>84.16</td>\n",
       "      <td>High Roller Savings</td>\n",
       "    </tr>\n",
       "    <tr>\n",
       "      <th>3</th>\n",
       "      <td>3</td>\n",
       "      <td>M</td>\n",
       "      <td>F</td>\n",
       "      <td>2.0</td>\n",
       "      <td>High School Degree</td>\n",
       "      <td>Bronze</td>\n",
       "      <td>Manual</td>\n",
       "      <td>Y</td>\n",
       "      <td>2.0</td>\n",
       "      <td>$30K - $50K</td>\n",
       "      <td>2.0</td>\n",
       "      <td>Salem</td>\n",
       "      <td>OR</td>\n",
       "      <td>In-Store Coupon</td>\n",
       "      <td>95.78</td>\n",
       "      <td>Cash Register Lottery</td>\n",
       "    </tr>\n",
       "    <tr>\n",
       "      <th>4</th>\n",
       "      <td>4</td>\n",
       "      <td>M</td>\n",
       "      <td>M</td>\n",
       "      <td>0.0</td>\n",
       "      <td>Partial High School</td>\n",
       "      <td>Bronze</td>\n",
       "      <td>Skilled Manual</td>\n",
       "      <td>N</td>\n",
       "      <td>2.0</td>\n",
       "      <td>$30K - $50K</td>\n",
       "      <td>0.0</td>\n",
       "      <td>Salem</td>\n",
       "      <td>OR</td>\n",
       "      <td>Radio</td>\n",
       "      <td>50.79</td>\n",
       "      <td>Double Down Sale</td>\n",
       "    </tr>\n",
       "  </tbody>\n",
       "</table>\n",
       "</div>"
      ],
      "text/plain": [
       "   id marital_status gender  total_children            education member_card  \\\n",
       "0   0              M      F             1.0  Partial High School      Normal   \n",
       "1   1              M      M             0.0     Bachelors Degree      Silver   \n",
       "2   2              S      F             4.0  Partial High School      Normal   \n",
       "3   3              M      F             2.0   High School Degree      Bronze   \n",
       "4   4              M      M             0.0  Partial High School      Bronze   \n",
       "\n",
       "       occupation houseowner  avg_cars_at home(approx) avg. yearly_income  \\\n",
       "0  Skilled Manual          Y                       1.0        $10K - $30K   \n",
       "1    Professional          Y                       4.0        $50K - $70K   \n",
       "2          Manual          N                       1.0        $10K - $30K   \n",
       "3          Manual          Y                       2.0        $30K - $50K   \n",
       "4  Skilled Manual          N                       2.0        $30K - $50K   \n",
       "\n",
       "   num_children_at_home store_city store_state          media_type    cost  \\\n",
       "0                   1.0      Salem          OR  Daily Paper, Radio  126.62   \n",
       "1                   0.0      Salem          OR  Daily Paper, Radio   59.86   \n",
       "2                   0.0      Salem          OR  Daily Paper, Radio   84.16   \n",
       "3                   2.0      Salem          OR     In-Store Coupon   95.78   \n",
       "4                   0.0      Salem          OR               Radio   50.79   \n",
       "\n",
       "          promotion_name  \n",
       "0           Bag Stuffers  \n",
       "1  Cash Register Lottery  \n",
       "2    High Roller Savings  \n",
       "3  Cash Register Lottery  \n",
       "4       Double Down Sale  "
      ]
     },
     "execution_count": 2,
     "metadata": {},
     "output_type": "execute_result"
    }
   ],
   "source": [
    "# Import dataset\n",
    "customer_df = pd.read_csv('Resources/customer_data.csv')\n",
    "customer_df.head()"
   ]
  },
  {
   "cell_type": "code",
   "execution_count": 3,
   "metadata": {},
   "outputs": [
    {
     "name": "stdout",
     "output_type": "stream",
     "text": [
      "Store dataset including 38892 rows and 16 cloumns.\n"
     ]
    }
   ],
   "source": [
    "# Check data frame shape\n",
    "shape = customer_df.shape\n",
    "print(f\"Store dataset including {shape[0]} rows and {shape[1]} cloumns.\")"
   ]
  },
  {
   "cell_type": "code",
   "execution_count": 4,
   "metadata": {},
   "outputs": [
    {
     "data": {
      "text/plain": [
       "Index(['id', 'marital_status', 'gender', 'total_children', 'education',\n",
       "       'member_card', 'occupation', 'houseowner', 'avg_cars_at home(approx)',\n",
       "       'avg. yearly_income', 'num_children_at_home', 'store_city',\n",
       "       'store_state', 'media_type', 'cost', 'promotion_name'],\n",
       "      dtype='object')"
      ]
     },
     "execution_count": 4,
     "metadata": {},
     "output_type": "execute_result"
    }
   ],
   "source": [
    "# Check data frame columns\n",
    "customer_df.columns"
   ]
  },
  {
   "cell_type": "code",
   "execution_count": 5,
   "metadata": {},
   "outputs": [
    {
     "data": {
      "text/plain": [
       "id                            int64\n",
       "marital_status               object\n",
       "gender                       object\n",
       "total_children              float64\n",
       "education                    object\n",
       "member_card                  object\n",
       "occupation                   object\n",
       "houseowner                   object\n",
       "avg_cars_at home(approx)    float64\n",
       "avg. yearly_income           object\n",
       "num_children_at_home        float64\n",
       "store_city                   object\n",
       "store_state                  object\n",
       "media_type                   object\n",
       "cost                        float64\n",
       "promotion_name               object\n",
       "dtype: object"
      ]
     },
     "execution_count": 5,
     "metadata": {},
     "output_type": "execute_result"
    }
   ],
   "source": [
    "# Check datatypes\n",
    "customer_df.dtypes"
   ]
  },
  {
   "cell_type": "code",
   "execution_count": 6,
   "metadata": {},
   "outputs": [
    {
     "data": {
      "text/plain": [
       "id                          0\n",
       "marital_status              0\n",
       "gender                      0\n",
       "total_children              0\n",
       "education                   0\n",
       "member_card                 0\n",
       "occupation                  0\n",
       "houseowner                  0\n",
       "avg_cars_at home(approx)    0\n",
       "avg. yearly_income          0\n",
       "num_children_at_home        0\n",
       "store_city                  0\n",
       "store_state                 0\n",
       "media_type                  0\n",
       "cost                        0\n",
       "promotion_name              0\n",
       "dtype: int64"
      ]
     },
     "execution_count": 6,
     "metadata": {},
     "output_type": "execute_result"
    }
   ],
   "source": [
    "# Check null values for each column\n",
    "customer_df.isnull().sum()"
   ]
  },
  {
   "cell_type": "code",
   "execution_count": 7,
   "metadata": {},
   "outputs": [
    {
     "data": {
      "text/plain": [
       "['marital_status',\n",
       " 'gender',\n",
       " 'education',\n",
       " 'member_card',\n",
       " 'occupation',\n",
       " 'houseowner',\n",
       " 'avg. yearly_income',\n",
       " 'store_city',\n",
       " 'store_state',\n",
       " 'media_type',\n",
       " 'promotion_name']"
      ]
     },
     "execution_count": 7,
     "metadata": {},
     "output_type": "execute_result"
    }
   ],
   "source": [
    "# Generate a categorical variable list\n",
    "cat = customer_df.dtypes[customer_df.dtypes == 'object'].index.tolist()\n",
    "cat"
   ]
  },
  {
   "cell_type": "code",
   "execution_count": 8,
   "metadata": {},
   "outputs": [
    {
     "name": "stdout",
     "output_type": "stream",
     "text": [
      "There are 11 categorical variables in customer data frame.\n"
     ]
    }
   ],
   "source": [
    "# Count the number of categorical variables.\n",
    "print(f\"There are {len(cat)} categorical variables in customer data frame.\")"
   ]
  },
  {
   "cell_type": "code",
   "execution_count": 9,
   "metadata": {},
   "outputs": [
    {
     "data": {
      "text/plain": [
       "['id',\n",
       " 'total_children',\n",
       " 'avg_cars_at home(approx)',\n",
       " 'num_children_at_home',\n",
       " 'cost']"
      ]
     },
     "execution_count": 9,
     "metadata": {},
     "output_type": "execute_result"
    }
   ],
   "source": [
    "# Generate a numerical variable list\n",
    "int_float = customer_df.dtypes[(customer_df.dtypes == 'int64') | (customer_df.dtypes == 'float64')].index.tolist()\n",
    "int_float"
   ]
  },
  {
   "cell_type": "code",
   "execution_count": 10,
   "metadata": {},
   "outputs": [
    {
     "name": "stdout",
     "output_type": "stream",
     "text": [
      "There are 5 numerical variables in customer data frame.\n"
     ]
    }
   ],
   "source": [
    "# Count the number of numerical variables.\n",
    "print(f\"There are {len(int_float)} numerical variables in customer data frame.\")"
   ]
  },
  {
   "cell_type": "markdown",
   "metadata": {},
   "source": [
    "## Principal Component Analysis"
   ]
  },
  {
   "cell_type": "code",
   "execution_count": null,
   "metadata": {},
   "outputs": [],
   "source": []
  }
 ],
 "metadata": {
  "kernelspec": {
   "display_name": "Python 3.9.13 ('mlenv')",
   "language": "python",
   "name": "python3"
  },
  "language_info": {
   "codemirror_mode": {
    "name": "ipython",
    "version": 3
   },
   "file_extension": ".py",
   "mimetype": "text/x-python",
   "name": "python",
   "nbconvert_exporter": "python",
   "pygments_lexer": "ipython3",
   "version": "3.9.13"
  },
  "orig_nbformat": 4,
  "vscode": {
   "interpreter": {
    "hash": "86969af4118fd2beaee010b14a97d3c8fe7dc31ff55f1528eea7eaecb45368d6"
   }
  }
 },
 "nbformat": 4,
 "nbformat_minor": 2
}
