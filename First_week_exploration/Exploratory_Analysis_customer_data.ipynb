{
 "cells": [
  {
   "cell_type": "code",
   "execution_count": 1,
   "id": "80cffe64",
   "metadata": {},
   "outputs": [],
   "source": [
    "import pandas as pd\n",
    "from sklearn.preprocessing import LabelEncoder\n",
    "from sklearn import tree\n",
    "from sklearn.preprocessing import StandardScaler\n",
    "from sklearn.model_selection import train_test_split\n",
    "import sklearn.metrics as metrics\n",
    "from skmultilearn.problem_transform import BinaryRelevance\n",
    "from sklearn.ensemble import RandomForestClassifier"
   ]
  },
  {
   "cell_type": "code",
   "execution_count": 2,
   "id": "556b9241",
   "metadata": {},
   "outputs": [
    {
     "data": {
      "text/html": [
       "<div>\n",
       "<style scoped>\n",
       "    .dataframe tbody tr th:only-of-type {\n",
       "        vertical-align: middle;\n",
       "    }\n",
       "\n",
       "    .dataframe tbody tr th {\n",
       "        vertical-align: top;\n",
       "    }\n",
       "\n",
       "    .dataframe thead th {\n",
       "        text-align: right;\n",
       "    }\n",
       "</style>\n",
       "<table border=\"1\" class=\"dataframe\">\n",
       "  <thead>\n",
       "    <tr style=\"text-align: right;\">\n",
       "      <th></th>\n",
       "      <th>id</th>\n",
       "      <th>marital_status</th>\n",
       "      <th>gender</th>\n",
       "      <th>total_children</th>\n",
       "      <th>education</th>\n",
       "      <th>member_card</th>\n",
       "      <th>occupation</th>\n",
       "      <th>houseowner</th>\n",
       "      <th>avg_cars_at_home_approx</th>\n",
       "      <th>avg_yearly_income</th>\n",
       "      <th>num_children_at_home</th>\n",
       "      <th>store_city</th>\n",
       "      <th>store_state</th>\n",
       "      <th>media_type</th>\n",
       "      <th>cost</th>\n",
       "      <th>promotion_name</th>\n",
       "    </tr>\n",
       "  </thead>\n",
       "  <tbody>\n",
       "    <tr>\n",
       "      <th>0</th>\n",
       "      <td>0</td>\n",
       "      <td>M</td>\n",
       "      <td>F</td>\n",
       "      <td>1.0</td>\n",
       "      <td>Partial High School</td>\n",
       "      <td>Normal</td>\n",
       "      <td>Skilled Manual</td>\n",
       "      <td>Y</td>\n",
       "      <td>1.0</td>\n",
       "      <td>$10K - $30K</td>\n",
       "      <td>1.0</td>\n",
       "      <td>Salem</td>\n",
       "      <td>OR</td>\n",
       "      <td>Daily Paper, Radio</td>\n",
       "      <td>126.62</td>\n",
       "      <td>Bag Stuffers</td>\n",
       "    </tr>\n",
       "    <tr>\n",
       "      <th>1</th>\n",
       "      <td>1</td>\n",
       "      <td>M</td>\n",
       "      <td>M</td>\n",
       "      <td>0.0</td>\n",
       "      <td>Bachelors Degree</td>\n",
       "      <td>Silver</td>\n",
       "      <td>Professional</td>\n",
       "      <td>Y</td>\n",
       "      <td>4.0</td>\n",
       "      <td>$50K - $70K</td>\n",
       "      <td>0.0</td>\n",
       "      <td>Salem</td>\n",
       "      <td>OR</td>\n",
       "      <td>Daily Paper, Radio</td>\n",
       "      <td>59.86</td>\n",
       "      <td>Cash Register Lottery</td>\n",
       "    </tr>\n",
       "    <tr>\n",
       "      <th>2</th>\n",
       "      <td>2</td>\n",
       "      <td>S</td>\n",
       "      <td>F</td>\n",
       "      <td>4.0</td>\n",
       "      <td>Partial High School</td>\n",
       "      <td>Normal</td>\n",
       "      <td>Manual</td>\n",
       "      <td>N</td>\n",
       "      <td>1.0</td>\n",
       "      <td>$10K - $30K</td>\n",
       "      <td>0.0</td>\n",
       "      <td>Salem</td>\n",
       "      <td>OR</td>\n",
       "      <td>Daily Paper, Radio</td>\n",
       "      <td>84.16</td>\n",
       "      <td>High Roller Savings</td>\n",
       "    </tr>\n",
       "    <tr>\n",
       "      <th>3</th>\n",
       "      <td>3</td>\n",
       "      <td>M</td>\n",
       "      <td>F</td>\n",
       "      <td>2.0</td>\n",
       "      <td>High School Degree</td>\n",
       "      <td>Bronze</td>\n",
       "      <td>Manual</td>\n",
       "      <td>Y</td>\n",
       "      <td>2.0</td>\n",
       "      <td>$30K - $50K</td>\n",
       "      <td>2.0</td>\n",
       "      <td>Salem</td>\n",
       "      <td>OR</td>\n",
       "      <td>In-Store Coupon</td>\n",
       "      <td>95.78</td>\n",
       "      <td>Cash Register Lottery</td>\n",
       "    </tr>\n",
       "    <tr>\n",
       "      <th>4</th>\n",
       "      <td>4</td>\n",
       "      <td>M</td>\n",
       "      <td>M</td>\n",
       "      <td>0.0</td>\n",
       "      <td>Partial High School</td>\n",
       "      <td>Bronze</td>\n",
       "      <td>Skilled Manual</td>\n",
       "      <td>N</td>\n",
       "      <td>2.0</td>\n",
       "      <td>$30K - $50K</td>\n",
       "      <td>0.0</td>\n",
       "      <td>Salem</td>\n",
       "      <td>OR</td>\n",
       "      <td>Radio</td>\n",
       "      <td>50.79</td>\n",
       "      <td>Double Down Sale</td>\n",
       "    </tr>\n",
       "  </tbody>\n",
       "</table>\n",
       "</div>"
      ],
      "text/plain": [
       "   id marital_status gender  total_children            education member_card  \\\n",
       "0   0              M      F             1.0  Partial High School      Normal   \n",
       "1   1              M      M             0.0     Bachelors Degree      Silver   \n",
       "2   2              S      F             4.0  Partial High School      Normal   \n",
       "3   3              M      F             2.0   High School Degree      Bronze   \n",
       "4   4              M      M             0.0  Partial High School      Bronze   \n",
       "\n",
       "       occupation houseowner  avg_cars_at_home_approx avg_yearly_income  \\\n",
       "0  Skilled Manual          Y                      1.0       $10K - $30K   \n",
       "1    Professional          Y                      4.0       $50K - $70K   \n",
       "2          Manual          N                      1.0       $10K - $30K   \n",
       "3          Manual          Y                      2.0       $30K - $50K   \n",
       "4  Skilled Manual          N                      2.0       $30K - $50K   \n",
       "\n",
       "   num_children_at_home store_city store_state          media_type    cost  \\\n",
       "0                   1.0      Salem          OR  Daily Paper, Radio  126.62   \n",
       "1                   0.0      Salem          OR  Daily Paper, Radio   59.86   \n",
       "2                   0.0      Salem          OR  Daily Paper, Radio   84.16   \n",
       "3                   2.0      Salem          OR     In-Store Coupon   95.78   \n",
       "4                   0.0      Salem          OR               Radio   50.79   \n",
       "\n",
       "          promotion_name  \n",
       "0           Bag Stuffers  \n",
       "1  Cash Register Lottery  \n",
       "2    High Roller Savings  \n",
       "3  Cash Register Lottery  \n",
       "4       Double Down Sale  "
      ]
     },
     "execution_count": 2,
     "metadata": {},
     "output_type": "execute_result"
    }
   ],
   "source": [
    "# Importing the data\n",
    "file_path = 'Resources/customer_data.csv'\n",
    "df = pd.read_csv(file_path)\n",
    "df.head()"
   ]
  },
  {
   "cell_type": "code",
   "execution_count": 3,
   "id": "e445ed4c",
   "metadata": {},
   "outputs": [
    {
     "data": {
      "text/plain": [
       "marital_status              object\n",
       "gender                      object\n",
       "total_children             float64\n",
       "education                   object\n",
       "member_card                 object\n",
       "occupation                  object\n",
       "houseowner                  object\n",
       "avg_cars_at_home_approx    float64\n",
       "avg_yearly_income           object\n",
       "num_children_at_home       float64\n",
       "store_city                  object\n",
       "store_state                 object\n",
       "media_type                  object\n",
       "cost                       float64\n",
       "promotion_name              object\n",
       "dtype: object"
      ]
     },
     "execution_count": 3,
     "metadata": {},
     "output_type": "execute_result"
    }
   ],
   "source": [
    "df = df.drop(columns=['id'])\n",
    "df.dtypes"
   ]
  },
  {
   "cell_type": "code",
   "execution_count": 4,
   "id": "7f3c9731",
   "metadata": {},
   "outputs": [
    {
     "data": {
      "text/plain": [
       "Index(['marital_status', 'gender', 'total_children', 'education',\n",
       "       'member_card', 'occupation', 'houseowner', 'avg_cars_at_home_approx',\n",
       "       'avg_yearly_income', 'num_children_at_home', 'store_city',\n",
       "       'store_state', 'media_type', 'cost', 'promotion_name'],\n",
       "      dtype='object')"
      ]
     },
     "execution_count": 4,
     "metadata": {},
     "output_type": "execute_result"
    }
   ],
   "source": [
    "df.columns"
   ]
  },
  {
   "cell_type": "code",
   "execution_count": 5,
   "id": "1bb18112",
   "metadata": {},
   "outputs": [
    {
     "data": {
      "text/html": [
       "<div>\n",
       "<style scoped>\n",
       "    .dataframe tbody tr th:only-of-type {\n",
       "        vertical-align: middle;\n",
       "    }\n",
       "\n",
       "    .dataframe tbody tr th {\n",
       "        vertical-align: top;\n",
       "    }\n",
       "\n",
       "    .dataframe thead th {\n",
       "        text-align: right;\n",
       "    }\n",
       "</style>\n",
       "<table border=\"1\" class=\"dataframe\">\n",
       "  <thead>\n",
       "    <tr style=\"text-align: right;\">\n",
       "      <th></th>\n",
       "      <th>marital_status</th>\n",
       "      <th>gender</th>\n",
       "      <th>total_children</th>\n",
       "      <th>education</th>\n",
       "      <th>member_card</th>\n",
       "      <th>occupation</th>\n",
       "      <th>houseowner</th>\n",
       "      <th>avg_cars_at_home_approx</th>\n",
       "      <th>avg_yearly_income</th>\n",
       "      <th>num_children_at_home</th>\n",
       "      <th>store_city</th>\n",
       "      <th>store_state</th>\n",
       "      <th>media_type</th>\n",
       "      <th>cost</th>\n",
       "      <th>promotion_name</th>\n",
       "    </tr>\n",
       "  </thead>\n",
       "  <tbody>\n",
       "    <tr>\n",
       "      <th>0</th>\n",
       "      <td>0</td>\n",
       "      <td>0</td>\n",
       "      <td>1.0</td>\n",
       "      <td>4</td>\n",
       "      <td>2</td>\n",
       "      <td>4</td>\n",
       "      <td>1</td>\n",
       "      <td>1.0</td>\n",
       "      <td>0</td>\n",
       "      <td>1.0</td>\n",
       "      <td>5</td>\n",
       "      <td>1</td>\n",
       "      <td>3</td>\n",
       "      <td>126.62</td>\n",
       "      <td>0</td>\n",
       "    </tr>\n",
       "    <tr>\n",
       "      <th>1</th>\n",
       "      <td>0</td>\n",
       "      <td>1</td>\n",
       "      <td>0.0</td>\n",
       "      <td>0</td>\n",
       "      <td>3</td>\n",
       "      <td>3</td>\n",
       "      <td>1</td>\n",
       "      <td>4.0</td>\n",
       "      <td>5</td>\n",
       "      <td>0.0</td>\n",
       "      <td>5</td>\n",
       "      <td>1</td>\n",
       "      <td>3</td>\n",
       "      <td>59.86</td>\n",
       "      <td>6</td>\n",
       "    </tr>\n",
       "    <tr>\n",
       "      <th>2</th>\n",
       "      <td>1</td>\n",
       "      <td>0</td>\n",
       "      <td>4.0</td>\n",
       "      <td>4</td>\n",
       "      <td>2</td>\n",
       "      <td>2</td>\n",
       "      <td>0</td>\n",
       "      <td>1.0</td>\n",
       "      <td>0</td>\n",
       "      <td>0.0</td>\n",
       "      <td>5</td>\n",
       "      <td>1</td>\n",
       "      <td>3</td>\n",
       "      <td>84.16</td>\n",
       "      <td>18</td>\n",
       "    </tr>\n",
       "    <tr>\n",
       "      <th>3</th>\n",
       "      <td>0</td>\n",
       "      <td>0</td>\n",
       "      <td>2.0</td>\n",
       "      <td>2</td>\n",
       "      <td>0</td>\n",
       "      <td>2</td>\n",
       "      <td>1</td>\n",
       "      <td>2.0</td>\n",
       "      <td>4</td>\n",
       "      <td>2.0</td>\n",
       "      <td>5</td>\n",
       "      <td>1</td>\n",
       "      <td>5</td>\n",
       "      <td>95.78</td>\n",
       "      <td>6</td>\n",
       "    </tr>\n",
       "    <tr>\n",
       "      <th>4</th>\n",
       "      <td>0</td>\n",
       "      <td>1</td>\n",
       "      <td>0.0</td>\n",
       "      <td>4</td>\n",
       "      <td>0</td>\n",
       "      <td>4</td>\n",
       "      <td>0</td>\n",
       "      <td>2.0</td>\n",
       "      <td>4</td>\n",
       "      <td>0.0</td>\n",
       "      <td>5</td>\n",
       "      <td>1</td>\n",
       "      <td>7</td>\n",
       "      <td>50.79</td>\n",
       "      <td>11</td>\n",
       "    </tr>\n",
       "  </tbody>\n",
       "</table>\n",
       "</div>"
      ],
      "text/plain": [
       "   marital_status  gender  total_children  education  member_card  occupation  \\\n",
       "0               0       0             1.0          4            2           4   \n",
       "1               0       1             0.0          0            3           3   \n",
       "2               1       0             4.0          4            2           2   \n",
       "3               0       0             2.0          2            0           2   \n",
       "4               0       1             0.0          4            0           4   \n",
       "\n",
       "   houseowner  avg_cars_at_home_approx  avg_yearly_income  \\\n",
       "0           1                      1.0                  0   \n",
       "1           1                      4.0                  5   \n",
       "2           0                      1.0                  0   \n",
       "3           1                      2.0                  4   \n",
       "4           0                      2.0                  4   \n",
       "\n",
       "   num_children_at_home  store_city  store_state  media_type    cost  \\\n",
       "0                   1.0           5            1           3  126.62   \n",
       "1                   0.0           5            1           3   59.86   \n",
       "2                   0.0           5            1           3   84.16   \n",
       "3                   2.0           5            1           5   95.78   \n",
       "4                   0.0           5            1           7   50.79   \n",
       "\n",
       "   promotion_name  \n",
       "0               0  \n",
       "1               6  \n",
       "2              18  \n",
       "3               6  \n",
       "4              11  "
      ]
     },
     "execution_count": 5,
     "metadata": {},
     "output_type": "execute_result"
    }
   ],
   "source": [
    "# Predict promo name(dep) based on food category(ind)\n",
    "\n",
    "# Data prep...\n",
    "# Encoding labels with scikit\n",
    "le = LabelEncoder()\n",
    "prepped_df = df.copy()\n",
    "\n",
    "columns_to_encode = ['marital_status', 'gender', 'education', 'member_card', 'occupation', 'houseowner',\n",
    "       'avg_yearly_income', 'store_city', 'store_state', 'media_type', 'promotion_name']\n",
    "\n",
    "for label in columns_to_encode:\n",
    "    prepped_df[label] = le.fit_transform(prepped_df[label])\n",
    "\n",
    "prepped_df.head()"
   ]
  },
  {
   "cell_type": "code",
   "execution_count": 20,
   "id": "ead7c6ff",
   "metadata": {},
   "outputs": [
    {
     "name": "stdout",
     "output_type": "stream",
     "text": [
      "   marital_status  gender  total_children  education  occupation  houseowner  \\\n",
      "0               0       0             1.0          4           4           1   \n",
      "1               0       1             0.0          0           3           1   \n",
      "2               1       0             4.0          4           2           0   \n",
      "3               0       0             2.0          2           2           1   \n",
      "4               0       1             0.0          4           4           0   \n",
      "\n",
      "   avg_cars_at_home_approx  avg_yearly_income  num_children_at_home  \\\n",
      "0                      1.0                  0                   1.0   \n",
      "1                      4.0                  5                   0.0   \n",
      "2                      1.0                  0                   0.0   \n",
      "3                      2.0                  4                   2.0   \n",
      "4                      2.0                  4                   0.0   \n",
      "\n",
      "   store_city  store_state  media_type    cost  promotion_name  \n",
      "0           5            1           3  126.62               0  \n",
      "1           5            1           3   59.86               6  \n",
      "2           5            1           3   84.16              18  \n",
      "3           5            1           5   95.78               6  \n",
      "4           5            1           7   50.79              11  \n",
      "[2 3 2 0 0]\n"
     ]
    }
   ],
   "source": [
    "# Defining the features\n",
    "X = prepped_df.copy()\n",
    "X = X.drop('member_card', axis=1)\n",
    "\n",
    "# Defining the target set\n",
    "y = prepped_df['member_card'].values\n",
    "\n",
    "print(X.head())\n",
    "print(y[:5])"
   ]
  },
  {
   "cell_type": "code",
   "execution_count": 21,
   "id": "c850b4d8",
   "metadata": {},
   "outputs": [
    {
     "name": "stdout",
     "output_type": "stream",
     "text": [
      "(29169, 14)\n",
      "(9723, 14)\n",
      "(29169,)\n",
      "(9723,)\n"
     ]
    }
   ],
   "source": [
    "# Splitting the data into test and train\n",
    "X_train, X_test, y_train, y_test = train_test_split(X, y, random_state=42)\n",
    "\n",
    "# Checking the shape of our training and testing sets.\n",
    "print(X_train.shape)\n",
    "print(X_test.shape)\n",
    "print(y_train.shape)\n",
    "print(y_test.shape)"
   ]
  },
  {
   "cell_type": "code",
   "execution_count": 22,
   "id": "573dd685",
   "metadata": {},
   "outputs": [],
   "source": [
    "# Scaling the data\n",
    "# Creating scaler instance\n",
    "scaler = StandardScaler()\n",
    "# Fitrting it to the data\n",
    "X_scaler = scaler.fit(X_train)\n",
    "\n",
    "# Scaling the data\n",
    "X_train_scaled = X_scaler.transform(X_train)\n",
    "X_test_scaled = X_scaler.transform(X_test)"
   ]
  },
  {
   "cell_type": "code",
   "execution_count": 23,
   "id": "584e6303",
   "metadata": {},
   "outputs": [
    {
     "data": {
      "text/plain": [
       "LabelPowerset(classifier=RandomForestClassifier(), require_dense=[False, True])"
      ]
     },
     "execution_count": 23,
     "metadata": {},
     "output_type": "execute_result"
    }
   ],
   "source": [
    "# Fitting the model\n",
    "from skmultilearn.problem_transform import LabelPowerset\n",
    "\n",
    "classifier = LabelPowerset(\n",
    "    classifier = RandomForestClassifier(),\n",
    "    require_dense = [False, True]\n",
    ")\n",
    "\n",
    "classifier.fit(X_train_scaled, y_train)"
   ]
  },
  {
   "cell_type": "code",
   "execution_count": 24,
   "id": "c57d39bd",
   "metadata": {},
   "outputs": [
    {
     "data": {
      "text/plain": [
       "<9723x1 sparse matrix of type '<class 'numpy.int64'>'\n",
       "\twith 4333 stored elements in List of Lists format>"
      ]
     },
     "execution_count": 24,
     "metadata": {},
     "output_type": "execute_result"
    }
   ],
   "source": [
    "# Making predictions!\n",
    "predictions = classifier.predict(X_test_scaled)\n",
    "predictions"
   ]
  },
  {
   "cell_type": "code",
   "execution_count": 25,
   "id": "4f297468",
   "metadata": {},
   "outputs": [
    {
     "data": {
      "text/plain": [
       "9723"
      ]
     },
     "execution_count": 25,
     "metadata": {},
     "output_type": "execute_result"
    }
   ],
   "source": [
    "predictions = predictions.toarray()\n",
    "len(predictions)"
   ]
  },
  {
   "cell_type": "code",
   "execution_count": 26,
   "id": "5cad42d8",
   "metadata": {},
   "outputs": [
    {
     "name": "stdout",
     "output_type": "stream",
     "text": [
      "Label Powerset F1-score: 0.666\n",
      "Label Powerset Hamming Loss: 0.334\n"
     ]
    }
   ],
   "source": [
    "lp_f1=metrics.f1_score(y_test, predictions, average='micro')\n",
    "lp_hamm=metrics.hamming_loss(y_test, predictions)\n",
    "print('Label Powerset F1-score:',round(lp_f1,3))\n",
    "print('Label Powerset Hamming Loss:',round(lp_hamm,3))"
   ]
  },
  {
   "cell_type": "code",
   "execution_count": null,
   "id": "bed7d7be",
   "metadata": {},
   "outputs": [],
   "source": []
  }
 ],
 "metadata": {
  "kernelspec": {
   "display_name": "mlenv",
   "language": "python",
   "name": "mlenv"
  },
  "language_info": {
   "codemirror_mode": {
    "name": "ipython",
    "version": 3
   },
   "file_extension": ".py",
   "mimetype": "text/x-python",
   "name": "python",
   "nbconvert_exporter": "python",
   "pygments_lexer": "ipython3",
   "version": "3.7.13"
  }
 },
 "nbformat": 4,
 "nbformat_minor": 5
}
