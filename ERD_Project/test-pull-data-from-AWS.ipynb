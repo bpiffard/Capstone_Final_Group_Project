{
 "cells": [
  {
   "cell_type": "code",
   "execution_count": 11,
   "id": "e249575b",
   "metadata": {},
   "outputs": [],
   "source": [
    "#Importing dependencies\n",
    "import psycopg2 as ps\n",
    "import pandas as pd\n",
    "import config as creds"
   ]
  },
  {
   "cell_type": "code",
   "execution_count": 12,
   "id": "08afc38b",
   "metadata": {},
   "outputs": [],
   "source": [
    "def connect():\n",
    "    \n",
    "    # Set up a connection to the postgres server.\n",
    "    conn_string = \"host=\"+ creds.PGHOST +\" port=\"+ \"5432\" +\" dbname=\"+ creds.PGDATABASE +\" user=\" + creds.PGUSER \\\n",
    "                  +\" password=\"+ creds.PGPASSWORD\n",
    "    \n",
    "    conn = ps.connect(conn_string)\n",
    "    print(\"Connected!\")\n",
    "    \n",
    "    # Create a cursor object\n",
    "    cursor = conn.cursor()\n",
    "    \n",
    "    return conn, cursor"
   ]
  },
  {
   "cell_type": "code",
   "execution_count": 15,
   "id": "399c284a",
   "metadata": {},
   "outputs": [
    {
     "name": "stdout",
     "output_type": "stream",
     "text": [
      "Connected!\n"
     ]
    }
   ],
   "source": [
    "conn, cursor = connect()"
   ]
  },
  {
   "cell_type": "code",
   "execution_count": 16,
   "id": "bd403e24",
   "metadata": {},
   "outputs": [],
   "source": [
    "customer_df = pd.read_sql_query('SELECT * from customer_data', con=conn)\n",
    "store_df = pd.read_sql_query('SELECT * from store_data', con=conn)\n",
    "promo_df = pd.read_sql_query('SELECT * from promo_data', con=conn)\n",
    "product_df = pd.read_sql_query('SELECT * from product_data', con=conn)\n",
    "location_df = pd.read_sql_query('SELECT * from location_data', con=conn)"
   ]
  },
  {
   "cell_type": "code",
   "execution_count": 17,
   "id": "54527aad",
   "metadata": {},
   "outputs": [
    {
     "data": {
      "text/html": [
       "<div>\n",
       "<style scoped>\n",
       "    .dataframe tbody tr th:only-of-type {\n",
       "        vertical-align: middle;\n",
       "    }\n",
       "\n",
       "    .dataframe tbody tr th {\n",
       "        vertical-align: top;\n",
       "    }\n",
       "\n",
       "    .dataframe thead th {\n",
       "        text-align: right;\n",
       "    }\n",
       "</style>\n",
       "<table border=\"1\" class=\"dataframe\">\n",
       "  <thead>\n",
       "    <tr style=\"text-align: right;\">\n",
       "      <th></th>\n",
       "      <th>customer_id</th>\n",
       "      <th>marital_status</th>\n",
       "      <th>gender</th>\n",
       "      <th>total_children</th>\n",
       "      <th>education</th>\n",
       "      <th>member_card</th>\n",
       "      <th>occupation</th>\n",
       "      <th>houseowner</th>\n",
       "      <th>avg_cars_at_home_approx</th>\n",
       "      <th>avg_yearly_income</th>\n",
       "      <th>num_children_at_home</th>\n",
       "      <th>location_id</th>\n",
       "    </tr>\n",
       "  </thead>\n",
       "  <tbody>\n",
       "    <tr>\n",
       "      <th>0</th>\n",
       "      <td>c0</td>\n",
       "      <td>M</td>\n",
       "      <td>F</td>\n",
       "      <td>1</td>\n",
       "      <td>Partial High School</td>\n",
       "      <td>Normal</td>\n",
       "      <td>Skilled Manual</td>\n",
       "      <td>Y</td>\n",
       "      <td>1.0</td>\n",
       "      <td>$10K - $30K</td>\n",
       "      <td>1.0</td>\n",
       "      <td>loc0</td>\n",
       "    </tr>\n",
       "    <tr>\n",
       "      <th>1</th>\n",
       "      <td>c1</td>\n",
       "      <td>M</td>\n",
       "      <td>M</td>\n",
       "      <td>0</td>\n",
       "      <td>Bachelors Degree</td>\n",
       "      <td>Silver</td>\n",
       "      <td>Professional</td>\n",
       "      <td>Y</td>\n",
       "      <td>4.0</td>\n",
       "      <td>$50K - $70K</td>\n",
       "      <td>0.0</td>\n",
       "      <td>loc0</td>\n",
       "    </tr>\n",
       "    <tr>\n",
       "      <th>2</th>\n",
       "      <td>c2</td>\n",
       "      <td>S</td>\n",
       "      <td>F</td>\n",
       "      <td>4</td>\n",
       "      <td>Partial High School</td>\n",
       "      <td>Normal</td>\n",
       "      <td>Manual</td>\n",
       "      <td>N</td>\n",
       "      <td>1.0</td>\n",
       "      <td>$10K - $30K</td>\n",
       "      <td>0.0</td>\n",
       "      <td>loc0</td>\n",
       "    </tr>\n",
       "    <tr>\n",
       "      <th>3</th>\n",
       "      <td>c3</td>\n",
       "      <td>M</td>\n",
       "      <td>F</td>\n",
       "      <td>2</td>\n",
       "      <td>High School Degree</td>\n",
       "      <td>Bronze</td>\n",
       "      <td>Manual</td>\n",
       "      <td>Y</td>\n",
       "      <td>2.0</td>\n",
       "      <td>$30K - $50K</td>\n",
       "      <td>2.0</td>\n",
       "      <td>loc0</td>\n",
       "    </tr>\n",
       "    <tr>\n",
       "      <th>4</th>\n",
       "      <td>c4</td>\n",
       "      <td>M</td>\n",
       "      <td>M</td>\n",
       "      <td>0</td>\n",
       "      <td>Partial High School</td>\n",
       "      <td>Bronze</td>\n",
       "      <td>Skilled Manual</td>\n",
       "      <td>N</td>\n",
       "      <td>2.0</td>\n",
       "      <td>$30K - $50K</td>\n",
       "      <td>0.0</td>\n",
       "      <td>loc0</td>\n",
       "    </tr>\n",
       "  </tbody>\n",
       "</table>\n",
       "</div>"
      ],
      "text/plain": [
       "  customer_id marital_status gender  total_children            education  \\\n",
       "0          c0              M      F               1  Partial High School   \n",
       "1          c1              M      M               0     Bachelors Degree   \n",
       "2          c2              S      F               4  Partial High School   \n",
       "3          c3              M      F               2   High School Degree   \n",
       "4          c4              M      M               0  Partial High School   \n",
       "\n",
       "  member_card      occupation houseowner  avg_cars_at_home_approx  \\\n",
       "0      Normal  Skilled Manual          Y                      1.0   \n",
       "1      Silver    Professional          Y                      4.0   \n",
       "2      Normal          Manual          N                      1.0   \n",
       "3      Bronze          Manual          Y                      2.0   \n",
       "4      Bronze  Skilled Manual          N                      2.0   \n",
       "\n",
       "  avg_yearly_income  num_children_at_home location_id  \n",
       "0       $10K - $30K                   1.0        loc0  \n",
       "1       $50K - $70K                   0.0        loc0  \n",
       "2       $10K - $30K                   0.0        loc0  \n",
       "3       $30K - $50K                   2.0        loc0  \n",
       "4       $30K - $50K                   0.0        loc0  "
      ]
     },
     "execution_count": 17,
     "metadata": {},
     "output_type": "execute_result"
    }
   ],
   "source": [
    "customer_df.head()"
   ]
  },
  {
   "cell_type": "code",
   "execution_count": 18,
   "id": "4a4a6f0d",
   "metadata": {},
   "outputs": [],
   "source": [
    "conn.close()\n",
    "cursor.close()"
   ]
  },
  {
   "cell_type": "code",
   "execution_count": null,
   "id": "8e7b9adb",
   "metadata": {},
   "outputs": [],
   "source": []
  }
 ],
 "metadata": {
  "kernelspec": {
   "display_name": "PythonData",
   "language": "python",
   "name": "pythondata"
  },
  "language_info": {
   "codemirror_mode": {
    "name": "ipython",
    "version": 3
   },
   "file_extension": ".py",
   "mimetype": "text/x-python",
   "name": "python",
   "nbconvert_exporter": "python",
   "pygments_lexer": "ipython3",
   "version": "3.7.13"
  }
 },
 "nbformat": 4,
 "nbformat_minor": 5
}
