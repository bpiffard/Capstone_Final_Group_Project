{
 "cells": [
  {
   "cell_type": "code",
   "execution_count": null,
   "metadata": {},
   "outputs": [],
   "source": [
    "# Import the models\n",
    "import pandas as pd\n",
    "import sklearn.datasets\n",
    "import matplotlib.pyplot as plt"
   ]
  },
  {
   "cell_type": "code",
   "execution_count": 2,
   "metadata": {},
   "outputs": [],
   "source": [
    "df = pd.read_csv(\"Resources/media prediction and its cost.csv\")"
   ]
  },
  {
   "cell_type": "code",
   "execution_count": 3,
   "metadata": {},
   "outputs": [
    {
     "data": {
      "text/html": [
       "<div>\n",
       "<style scoped>\n",
       "    .dataframe tbody tr th:only-of-type {\n",
       "        vertical-align: middle;\n",
       "    }\n",
       "\n",
       "    .dataframe tbody tr th {\n",
       "        vertical-align: top;\n",
       "    }\n",
       "\n",
       "    .dataframe thead th {\n",
       "        text-align: right;\n",
       "    }\n",
       "</style>\n",
       "<table border=\"1\" class=\"dataframe\">\n",
       "  <thead>\n",
       "    <tr style=\"text-align: right;\">\n",
       "      <th></th>\n",
       "      <th>food_category</th>\n",
       "      <th>food_department</th>\n",
       "      <th>food_family</th>\n",
       "      <th>store_sales(in millions)</th>\n",
       "      <th>store_cost(in millions)</th>\n",
       "      <th>unit_sales(in millions)</th>\n",
       "      <th>promotion_name</th>\n",
       "      <th>sales_country</th>\n",
       "      <th>marital_status</th>\n",
       "      <th>gender</th>\n",
       "      <th>...</th>\n",
       "      <th>grocery_sqft</th>\n",
       "      <th>frozen_sqft</th>\n",
       "      <th>meat_sqft</th>\n",
       "      <th>coffee_bar</th>\n",
       "      <th>video_store</th>\n",
       "      <th>salad_bar</th>\n",
       "      <th>prepared_food</th>\n",
       "      <th>florist</th>\n",
       "      <th>media_type</th>\n",
       "      <th>cost</th>\n",
       "    </tr>\n",
       "  </thead>\n",
       "  <tbody>\n",
       "    <tr>\n",
       "      <th>0</th>\n",
       "      <td>Breakfast Foods</td>\n",
       "      <td>Frozen Foods</td>\n",
       "      <td>Food</td>\n",
       "      <td>7.36</td>\n",
       "      <td>2.7232</td>\n",
       "      <td>4.0</td>\n",
       "      <td>Bag Stuffers</td>\n",
       "      <td>USA</td>\n",
       "      <td>M</td>\n",
       "      <td>F</td>\n",
       "      <td>...</td>\n",
       "      <td>18670.0</td>\n",
       "      <td>5415.0</td>\n",
       "      <td>3610.0</td>\n",
       "      <td>1.0</td>\n",
       "      <td>1.0</td>\n",
       "      <td>1.0</td>\n",
       "      <td>1.0</td>\n",
       "      <td>1.0</td>\n",
       "      <td>Daily Paper, Radio</td>\n",
       "      <td>126.62</td>\n",
       "    </tr>\n",
       "    <tr>\n",
       "      <th>1</th>\n",
       "      <td>Breakfast Foods</td>\n",
       "      <td>Frozen Foods</td>\n",
       "      <td>Food</td>\n",
       "      <td>5.52</td>\n",
       "      <td>2.5944</td>\n",
       "      <td>3.0</td>\n",
       "      <td>Cash Register Lottery</td>\n",
       "      <td>USA</td>\n",
       "      <td>M</td>\n",
       "      <td>M</td>\n",
       "      <td>...</td>\n",
       "      <td>18670.0</td>\n",
       "      <td>5415.0</td>\n",
       "      <td>3610.0</td>\n",
       "      <td>1.0</td>\n",
       "      <td>1.0</td>\n",
       "      <td>1.0</td>\n",
       "      <td>1.0</td>\n",
       "      <td>1.0</td>\n",
       "      <td>Daily Paper, Radio</td>\n",
       "      <td>59.86</td>\n",
       "    </tr>\n",
       "    <tr>\n",
       "      <th>2</th>\n",
       "      <td>Breakfast Foods</td>\n",
       "      <td>Frozen Foods</td>\n",
       "      <td>Food</td>\n",
       "      <td>3.68</td>\n",
       "      <td>1.3616</td>\n",
       "      <td>2.0</td>\n",
       "      <td>High Roller Savings</td>\n",
       "      <td>USA</td>\n",
       "      <td>S</td>\n",
       "      <td>F</td>\n",
       "      <td>...</td>\n",
       "      <td>18670.0</td>\n",
       "      <td>5415.0</td>\n",
       "      <td>3610.0</td>\n",
       "      <td>1.0</td>\n",
       "      <td>1.0</td>\n",
       "      <td>1.0</td>\n",
       "      <td>1.0</td>\n",
       "      <td>1.0</td>\n",
       "      <td>Daily Paper, Radio</td>\n",
       "      <td>84.16</td>\n",
       "    </tr>\n",
       "    <tr>\n",
       "      <th>3</th>\n",
       "      <td>Breakfast Foods</td>\n",
       "      <td>Frozen Foods</td>\n",
       "      <td>Food</td>\n",
       "      <td>3.68</td>\n",
       "      <td>1.1776</td>\n",
       "      <td>2.0</td>\n",
       "      <td>Cash Register Lottery</td>\n",
       "      <td>USA</td>\n",
       "      <td>M</td>\n",
       "      <td>F</td>\n",
       "      <td>...</td>\n",
       "      <td>18670.0</td>\n",
       "      <td>5415.0</td>\n",
       "      <td>3610.0</td>\n",
       "      <td>1.0</td>\n",
       "      <td>1.0</td>\n",
       "      <td>1.0</td>\n",
       "      <td>1.0</td>\n",
       "      <td>1.0</td>\n",
       "      <td>In-Store Coupon</td>\n",
       "      <td>95.78</td>\n",
       "    </tr>\n",
       "    <tr>\n",
       "      <th>4</th>\n",
       "      <td>Breakfast Foods</td>\n",
       "      <td>Frozen Foods</td>\n",
       "      <td>Food</td>\n",
       "      <td>4.08</td>\n",
       "      <td>1.4280</td>\n",
       "      <td>3.0</td>\n",
       "      <td>Double Down Sale</td>\n",
       "      <td>USA</td>\n",
       "      <td>M</td>\n",
       "      <td>M</td>\n",
       "      <td>...</td>\n",
       "      <td>18670.0</td>\n",
       "      <td>5415.0</td>\n",
       "      <td>3610.0</td>\n",
       "      <td>1.0</td>\n",
       "      <td>1.0</td>\n",
       "      <td>1.0</td>\n",
       "      <td>1.0</td>\n",
       "      <td>1.0</td>\n",
       "      <td>Radio</td>\n",
       "      <td>50.79</td>\n",
       "    </tr>\n",
       "    <tr>\n",
       "      <th>...</th>\n",
       "      <td>...</td>\n",
       "      <td>...</td>\n",
       "      <td>...</td>\n",
       "      <td>...</td>\n",
       "      <td>...</td>\n",
       "      <td>...</td>\n",
       "      <td>...</td>\n",
       "      <td>...</td>\n",
       "      <td>...</td>\n",
       "      <td>...</td>\n",
       "      <td>...</td>\n",
       "      <td>...</td>\n",
       "      <td>...</td>\n",
       "      <td>...</td>\n",
       "      <td>...</td>\n",
       "      <td>...</td>\n",
       "      <td>...</td>\n",
       "      <td>...</td>\n",
       "      <td>...</td>\n",
       "      <td>...</td>\n",
       "      <td>...</td>\n",
       "    </tr>\n",
       "    <tr>\n",
       "      <th>60423</th>\n",
       "      <td>Specialty</td>\n",
       "      <td>Carousel</td>\n",
       "      <td>Non-Consumable</td>\n",
       "      <td>2.76</td>\n",
       "      <td>1.3248</td>\n",
       "      <td>1.0</td>\n",
       "      <td>You Save Days</td>\n",
       "      <td>USA</td>\n",
       "      <td>M</td>\n",
       "      <td>F</td>\n",
       "      <td>...</td>\n",
       "      <td>15321.0</td>\n",
       "      <td>4294.0</td>\n",
       "      <td>2863.0</td>\n",
       "      <td>1.0</td>\n",
       "      <td>0.0</td>\n",
       "      <td>0.0</td>\n",
       "      <td>0.0</td>\n",
       "      <td>0.0</td>\n",
       "      <td>In-Store Coupon</td>\n",
       "      <td>95.25</td>\n",
       "    </tr>\n",
       "    <tr>\n",
       "      <th>60424</th>\n",
       "      <td>Specialty</td>\n",
       "      <td>Carousel</td>\n",
       "      <td>Non-Consumable</td>\n",
       "      <td>1.60</td>\n",
       "      <td>0.4960</td>\n",
       "      <td>1.0</td>\n",
       "      <td>Price Cutters</td>\n",
       "      <td>USA</td>\n",
       "      <td>S</td>\n",
       "      <td>F</td>\n",
       "      <td>...</td>\n",
       "      <td>15321.0</td>\n",
       "      <td>4294.0</td>\n",
       "      <td>2863.0</td>\n",
       "      <td>1.0</td>\n",
       "      <td>0.0</td>\n",
       "      <td>0.0</td>\n",
       "      <td>0.0</td>\n",
       "      <td>0.0</td>\n",
       "      <td>Sunday Paper</td>\n",
       "      <td>69.42</td>\n",
       "    </tr>\n",
       "    <tr>\n",
       "      <th>60425</th>\n",
       "      <td>Specialty</td>\n",
       "      <td>Carousel</td>\n",
       "      <td>Non-Consumable</td>\n",
       "      <td>5.52</td>\n",
       "      <td>2.5392</td>\n",
       "      <td>2.0</td>\n",
       "      <td>Weekend Markdown</td>\n",
       "      <td>USA</td>\n",
       "      <td>M</td>\n",
       "      <td>M</td>\n",
       "      <td>...</td>\n",
       "      <td>15321.0</td>\n",
       "      <td>4294.0</td>\n",
       "      <td>2863.0</td>\n",
       "      <td>1.0</td>\n",
       "      <td>0.0</td>\n",
       "      <td>0.0</td>\n",
       "      <td>0.0</td>\n",
       "      <td>0.0</td>\n",
       "      <td>Sunday Paper, Radio, TV</td>\n",
       "      <td>67.51</td>\n",
       "    </tr>\n",
       "    <tr>\n",
       "      <th>60426</th>\n",
       "      <td>Specialty</td>\n",
       "      <td>Carousel</td>\n",
       "      <td>Non-Consumable</td>\n",
       "      <td>8.28</td>\n",
       "      <td>2.5668</td>\n",
       "      <td>3.0</td>\n",
       "      <td>Sales Days</td>\n",
       "      <td>Canada</td>\n",
       "      <td>S</td>\n",
       "      <td>M</td>\n",
       "      <td>...</td>\n",
       "      <td>27463.0</td>\n",
       "      <td>4193.0</td>\n",
       "      <td>2795.0</td>\n",
       "      <td>1.0</td>\n",
       "      <td>0.0</td>\n",
       "      <td>0.0</td>\n",
       "      <td>0.0</td>\n",
       "      <td>1.0</td>\n",
       "      <td>Sunday Paper</td>\n",
       "      <td>132.88</td>\n",
       "    </tr>\n",
       "    <tr>\n",
       "      <th>60427</th>\n",
       "      <td>Specialty</td>\n",
       "      <td>Carousel</td>\n",
       "      <td>Non-Consumable</td>\n",
       "      <td>9.20</td>\n",
       "      <td>4.2320</td>\n",
       "      <td>4.0</td>\n",
       "      <td>Super Duper Savers</td>\n",
       "      <td>Canada</td>\n",
       "      <td>S</td>\n",
       "      <td>F</td>\n",
       "      <td>...</td>\n",
       "      <td>27463.0</td>\n",
       "      <td>4193.0</td>\n",
       "      <td>2795.0</td>\n",
       "      <td>1.0</td>\n",
       "      <td>0.0</td>\n",
       "      <td>0.0</td>\n",
       "      <td>0.0</td>\n",
       "      <td>1.0</td>\n",
       "      <td>Daily Paper, Radio</td>\n",
       "      <td>87.76</td>\n",
       "    </tr>\n",
       "  </tbody>\n",
       "</table>\n",
       "<p>60428 rows × 40 columns</p>\n",
       "</div>"
      ],
      "text/plain": [
       "         food_category food_department     food_family  \\\n",
       "0      Breakfast Foods    Frozen Foods            Food   \n",
       "1      Breakfast Foods    Frozen Foods            Food   \n",
       "2      Breakfast Foods    Frozen Foods            Food   \n",
       "3      Breakfast Foods    Frozen Foods            Food   \n",
       "4      Breakfast Foods    Frozen Foods            Food   \n",
       "...                ...             ...             ...   \n",
       "60423        Specialty        Carousel  Non-Consumable   \n",
       "60424        Specialty        Carousel  Non-Consumable   \n",
       "60425        Specialty        Carousel  Non-Consumable   \n",
       "60426        Specialty        Carousel  Non-Consumable   \n",
       "60427        Specialty        Carousel  Non-Consumable   \n",
       "\n",
       "       store_sales(in millions)  store_cost(in millions)  \\\n",
       "0                          7.36                   2.7232   \n",
       "1                          5.52                   2.5944   \n",
       "2                          3.68                   1.3616   \n",
       "3                          3.68                   1.1776   \n",
       "4                          4.08                   1.4280   \n",
       "...                         ...                      ...   \n",
       "60423                      2.76                   1.3248   \n",
       "60424                      1.60                   0.4960   \n",
       "60425                      5.52                   2.5392   \n",
       "60426                      8.28                   2.5668   \n",
       "60427                      9.20                   4.2320   \n",
       "\n",
       "       unit_sales(in millions)         promotion_name sales_country  \\\n",
       "0                          4.0           Bag Stuffers           USA   \n",
       "1                          3.0  Cash Register Lottery           USA   \n",
       "2                          2.0    High Roller Savings           USA   \n",
       "3                          2.0  Cash Register Lottery           USA   \n",
       "4                          3.0       Double Down Sale           USA   \n",
       "...                        ...                    ...           ...   \n",
       "60423                      1.0          You Save Days           USA   \n",
       "60424                      1.0          Price Cutters           USA   \n",
       "60425                      2.0       Weekend Markdown           USA   \n",
       "60426                      3.0             Sales Days        Canada   \n",
       "60427                      4.0     Super Duper Savers        Canada   \n",
       "\n",
       "      marital_status gender  ...  grocery_sqft frozen_sqft meat_sqft  \\\n",
       "0                  M      F  ...       18670.0      5415.0    3610.0   \n",
       "1                  M      M  ...       18670.0      5415.0    3610.0   \n",
       "2                  S      F  ...       18670.0      5415.0    3610.0   \n",
       "3                  M      F  ...       18670.0      5415.0    3610.0   \n",
       "4                  M      M  ...       18670.0      5415.0    3610.0   \n",
       "...              ...    ...  ...           ...         ...       ...   \n",
       "60423              M      F  ...       15321.0      4294.0    2863.0   \n",
       "60424              S      F  ...       15321.0      4294.0    2863.0   \n",
       "60425              M      M  ...       15321.0      4294.0    2863.0   \n",
       "60426              S      M  ...       27463.0      4193.0    2795.0   \n",
       "60427              S      F  ...       27463.0      4193.0    2795.0   \n",
       "\n",
       "      coffee_bar video_store  salad_bar prepared_food  florist  \\\n",
       "0            1.0         1.0        1.0           1.0      1.0   \n",
       "1            1.0         1.0        1.0           1.0      1.0   \n",
       "2            1.0         1.0        1.0           1.0      1.0   \n",
       "3            1.0         1.0        1.0           1.0      1.0   \n",
       "4            1.0         1.0        1.0           1.0      1.0   \n",
       "...          ...         ...        ...           ...      ...   \n",
       "60423        1.0         0.0        0.0           0.0      0.0   \n",
       "60424        1.0         0.0        0.0           0.0      0.0   \n",
       "60425        1.0         0.0        0.0           0.0      0.0   \n",
       "60426        1.0         0.0        0.0           0.0      1.0   \n",
       "60427        1.0         0.0        0.0           0.0      1.0   \n",
       "\n",
       "                    media_type    cost  \n",
       "0           Daily Paper, Radio  126.62  \n",
       "1           Daily Paper, Radio   59.86  \n",
       "2           Daily Paper, Radio   84.16  \n",
       "3              In-Store Coupon   95.78  \n",
       "4                        Radio   50.79  \n",
       "...                        ...     ...  \n",
       "60423          In-Store Coupon   95.25  \n",
       "60424             Sunday Paper   69.42  \n",
       "60425  Sunday Paper, Radio, TV   67.51  \n",
       "60426             Sunday Paper  132.88  \n",
       "60427       Daily Paper, Radio   87.76  \n",
       "\n",
       "[60428 rows x 40 columns]"
      ]
     },
     "execution_count": 3,
     "metadata": {},
     "output_type": "execute_result"
    }
   ],
   "source": [
    "df"
   ]
  },
  {
   "cell_type": "code",
   "execution_count": 4,
   "metadata": {},
   "outputs": [
    {
     "data": {
      "text/plain": [
       "Index(['food_category', 'food_department', 'food_family',\n",
       "       'store_sales(in millions)', 'store_cost(in millions)',\n",
       "       'unit_sales(in millions)', 'promotion_name', 'sales_country',\n",
       "       'marital_status', 'gender', 'total_children', 'education',\n",
       "       'member_card', 'occupation', 'houseowner', 'avg_cars_at home(approx)',\n",
       "       'avg. yearly_income', 'num_children_at_home',\n",
       "       'avg_cars_at home(approx).1', 'brand_name', 'SRP', 'gross_weight',\n",
       "       'net_weight', 'recyclable_package', 'low_fat', 'units_per_case',\n",
       "       'store_type', 'store_city', 'store_state', 'store_sqft', 'grocery_sqft',\n",
       "       'frozen_sqft', 'meat_sqft', 'coffee_bar', 'video_store', 'salad_bar',\n",
       "       'prepared_food', 'florist', 'media_type', 'cost'],\n",
       "      dtype='object')"
      ]
     },
     "execution_count": 4,
     "metadata": {},
     "output_type": "execute_result"
    }
   ],
   "source": [
    "df.columns"
   ]
  },
  {
   "cell_type": "code",
   "execution_count": 5,
   "metadata": {},
   "outputs": [
    {
     "data": {
      "text/plain": [
       "Vegetables              7440\n",
       "Snack Foods             6919\n",
       "Dairy                   3835\n",
       "Meat                    3107\n",
       "Fruit                   3080\n",
       "Jams and Jellies        2550\n",
       "Baking Goods            1947\n",
       "Breakfast Foods         1946\n",
       "Bread                   1797\n",
       "Canned Soup             1722\n",
       "Beer and Wine           1590\n",
       "Paper Products          1568\n",
       "Bathroom Products       1552\n",
       "Electrical              1544\n",
       "Candy                   1538\n",
       "Frozen Desserts         1446\n",
       "Specialty               1174\n",
       "Starchy Foods           1103\n",
       "Magazines                971\n",
       "Kitchen Products         969\n",
       "Eggs                     952\n",
       "Hot Beverages            891\n",
       "Hygiene                  831\n",
       "Pain Relievers           828\n",
       "Pizza                    821\n",
       "Carbonated Beverages     782\n",
       "Pure Juice Beverages     760\n",
       "Cleaning Supplies        748\n",
       "Side Dishes              601\n",
       "Frozen Entrees           595\n",
       "Drinks                   581\n",
       "Plastic Products         578\n",
       "Hardware                 575\n",
       "Cold Remedies            399\n",
       "Decongestants            396\n",
       "Canned Tuna              395\n",
       "Seafood                  375\n",
       "Canned Anchovies         213\n",
       "Canned Clams             199\n",
       "Candles                  195\n",
       "Miscellaneous            194\n",
       "Canned Oysters           189\n",
       "Canned Shrimp            182\n",
       "Packaged Vegetables      179\n",
       "Canned Sardines          171\n",
       "Name: food_category, dtype: int64"
      ]
     },
     "execution_count": 5,
     "metadata": {},
     "output_type": "execute_result"
    }
   ],
   "source": [
    "df['food_category'].value_counts()"
   ]
  },
  {
   "cell_type": "code",
   "execution_count": 6,
   "metadata": {},
   "outputs": [
    {
     "data": {
      "text/plain": [
       "Produce                8521\n",
       "Snack Foods            6919\n",
       "Household              6185\n",
       "Frozen Foods           6126\n",
       "Baking Goods           4497\n",
       "Canned Foods           4238\n",
       "Dairy                  3835\n",
       "Health and Hygiene     3807\n",
       "Beverages              3014\n",
       "Deli                   2787\n",
       "Baked Goods            1797\n",
       "Alcoholic Beverages    1590\n",
       "Snacks                 1538\n",
       "Starchy Foods          1103\n",
       "Periodicals             971\n",
       "Eggs                    952\n",
       "Breakfast Foods         778\n",
       "Canned Products         400\n",
       "Checkout                385\n",
       "Meat                    385\n",
       "Seafood                 375\n",
       "Carousel                225\n",
       "Name: food_department, dtype: int64"
      ]
     },
     "execution_count": 6,
     "metadata": {},
     "output_type": "execute_result"
    }
   ],
   "source": [
    "df['food_department'].value_counts()"
   ]
  },
  {
   "cell_type": "code",
   "execution_count": 7,
   "metadata": {},
   "outputs": [
    {
     "data": {
      "text/plain": [
       "Food              43284\n",
       "Non-Consumable    11573\n",
       "Drink              5571\n",
       "Name: food_family, dtype: int64"
      ]
     },
     "execution_count": 7,
     "metadata": {},
     "output_type": "execute_result"
    }
   ],
   "source": [
    "df['food_family'].value_counts()"
   ]
  },
  {
   "cell_type": "code",
   "execution_count": 8,
   "metadata": {},
   "outputs": [
    {
     "data": {
      "text/plain": [
       "5.04     311\n",
       "7.95     272\n",
       "5.40     270\n",
       "4.80     268\n",
       "7.41     265\n",
       "        ... \n",
       "18.85      1\n",
       "3.83       1\n",
       "17.46      1\n",
       "3.71       1\n",
       "1.21       1\n",
       "Name: store_sales(in millions), Length: 1033, dtype: int64"
      ]
     },
     "execution_count": 8,
     "metadata": {},
     "output_type": "execute_result"
    }
   ],
   "source": [
    "df['store_sales(in millions)'].value_counts()"
   ]
  },
  {
   "cell_type": "code",
   "execution_count": 9,
   "metadata": {},
   "outputs": [
    {
     "data": {
      "text/plain": [
       "1.5120    71\n",
       "2.1600    65\n",
       "3.0240    64\n",
       "2.5920    62\n",
       "1.7280    62\n",
       "          ..\n",
       "1.2070     1\n",
       "3.9100     1\n",
       "2.4375     1\n",
       "1.9975     1\n",
       "0.4477     1\n",
       "Name: store_cost(in millions), Length: 9919, dtype: int64"
      ]
     },
     "execution_count": 9,
     "metadata": {},
     "output_type": "execute_result"
    }
   ],
   "source": [
    "df['store_cost(in millions)'].value_counts()"
   ]
  },
  {
   "cell_type": "code",
   "execution_count": 10,
   "metadata": {},
   "outputs": [
    {
     "data": {
      "text/plain": [
       "3.0    27482\n",
       "4.0    16581\n",
       "2.0    13417\n",
       "5.0     2058\n",
       "1.0      864\n",
       "6.0       26\n",
       "Name: unit_sales(in millions), dtype: int64"
      ]
     },
     "execution_count": 10,
     "metadata": {},
     "output_type": "execute_result"
    }
   ],
   "source": [
    "df['unit_sales(in millions)'].value_counts()"
   ]
  },
  {
   "cell_type": "code",
   "execution_count": 11,
   "metadata": {},
   "outputs": [
    {
     "data": {
      "text/plain": [
       "Weekend Markdown           2330\n",
       "Two Day Sale               2321\n",
       "Price Savers               2279\n",
       "Price Winners              2108\n",
       "Save-It Sale               2001\n",
       "Super Duper Savers         1986\n",
       "Super Savers               1930\n",
       "One Day Sale               1843\n",
       "Double Down Sale           1755\n",
       "High Roller Savings        1741\n",
       "Green Light Days           1702\n",
       "Shelf Clearing Days        1690\n",
       "Price Slashers             1647\n",
       "Free For All               1621\n",
       "Cash Register Lottery      1555\n",
       "Go For It                  1521\n",
       "Two for One                1493\n",
       "Money Savers               1489\n",
       "Big Time Discounts         1480\n",
       "Price Destroyers           1374\n",
       "Saving Days                1353\n",
       "Dollar Cutters             1326\n",
       "Unbeatable Price Savers    1217\n",
       "Sales Galore               1212\n",
       "Big Promo                  1172\n",
       "Dimes Off                  1150\n",
       "Sales Days                 1107\n",
       "Price Cutters              1099\n",
       "You Save Days              1075\n",
       "Savings Galore             1067\n",
       "Bag Stuffers               1066\n",
       "Three for One              1042\n",
       "I Cant Believe It Sale      972\n",
       "Sale Winners                910\n",
       "Pick Your Savings           876\n",
       "Bye Bye Baby                874\n",
       "Best Savings                868\n",
       "Tip Top Savings             862\n",
       "Shelf Emptiers              799\n",
       "Big Time Savings            745\n",
       "Wallet Savers               608\n",
       "Dollar Days                 532\n",
       "Mystery Sale                511\n",
       "Price Smashers              449\n",
       "Green Light Special         427\n",
       "Coupon Spectacular          402\n",
       "Super Wallet Savers         389\n",
       "Double Your Savings         242\n",
       "Fantastic Discounts         210\n",
       "Name: promotion_name, dtype: int64"
      ]
     },
     "execution_count": 11,
     "metadata": {},
     "output_type": "execute_result"
    }
   ],
   "source": [
    "df['promotion_name'].value_counts()"
   ]
  },
  {
   "cell_type": "code",
   "execution_count": 12,
   "metadata": {},
   "outputs": [
    {
     "data": {
      "text/plain": [
       "USA       38892\n",
       "Mexico    17572\n",
       "Canada     3964\n",
       "Name: sales_country, dtype: int64"
      ]
     },
     "execution_count": 12,
     "metadata": {},
     "output_type": "execute_result"
    }
   ],
   "source": [
    "media['sales_country'].value_counts()"
   ]
  },
  {
   "cell_type": "code",
   "execution_count": 13,
   "metadata": {},
   "outputs": [
    {
     "data": {
      "text/plain": [
       "S    30355\n",
       "M    30073\n",
       "Name: marital_status, dtype: int64"
      ]
     },
     "execution_count": 13,
     "metadata": {},
     "output_type": "execute_result"
    }
   ],
   "source": [
    "df['marital_status'].value_counts()"
   ]
  },
  {
   "cell_type": "code",
   "execution_count": 14,
   "metadata": {},
   "outputs": [
    {
     "data": {
      "text/plain": [
       "F    30942\n",
       "M    29486\n",
       "Name: gender, dtype: int64"
      ]
     },
     "execution_count": 14,
     "metadata": {},
     "output_type": "execute_result"
    }
   ],
   "source": [
    "df['gender'].value_counts()"
   ]
  },
  {
   "cell_type": "code",
   "execution_count": 15,
   "metadata": {},
   "outputs": [
    {
     "data": {
      "text/plain": [
       "2.0    12518\n",
       "4.0    12427\n",
       "3.0    11921\n",
       "1.0    11770\n",
       "5.0     6168\n",
       "0.0     5624\n",
       "Name: total_children, dtype: int64"
      ]
     },
     "execution_count": 15,
     "metadata": {},
     "output_type": "execute_result"
    }
   ],
   "source": [
    "df['total_children'].value_counts()"
   ]
  },
  {
   "cell_type": "code",
   "execution_count": 16,
   "metadata": {},
   "outputs": [
    {
     "data": {
      "text/plain": [
       "Partial High School    18201\n",
       "High School Degree     17838\n",
       "Bachelors Degree       15994\n",
       "Partial College         5284\n",
       "Graduate Degree         3111\n",
       "Name: education, dtype: int64"
      ]
     },
     "execution_count": 16,
     "metadata": {},
     "output_type": "execute_result"
    }
   ],
   "source": [
    "df['education'].value_counts()"
   ]
  },
  {
   "cell_type": "code",
   "execution_count": 17,
   "metadata": {},
   "outputs": [
    {
     "data": {
      "text/plain": [
       "Bronze    33807\n",
       "Normal    13867\n",
       "Golden     7556\n",
       "Silver     5198\n",
       "Name: member_card, dtype: int64"
      ]
     },
     "execution_count": 17,
     "metadata": {},
     "output_type": "execute_result"
    }
   ],
   "source": [
    "df['member_card'].value_counts()"
   ]
  },
  {
   "cell_type": "code",
   "execution_count": 18,
   "metadata": {},
   "outputs": [
    {
     "data": {
      "text/plain": [
       "Professional      19915\n",
       "Skilled Manual    15995\n",
       "Manual            14624\n",
       "Management         8805\n",
       "Clerical           1089\n",
       "Name: occupation, dtype: int64"
      ]
     },
     "execution_count": 18,
     "metadata": {},
     "output_type": "execute_result"
    }
   ],
   "source": [
    "df['occupation'].value_counts()"
   ]
  },
  {
   "cell_type": "code",
   "execution_count": 19,
   "metadata": {},
   "outputs": [
    {
     "data": {
      "text/plain": [
       "Y    36510\n",
       "N    23918\n",
       "Name: houseowner, dtype: int64"
      ]
     },
     "execution_count": 19,
     "metadata": {},
     "output_type": "execute_result"
    }
   ],
   "source": [
    "df['houseowner'].value_counts()"
   ]
  },
  {
   "cell_type": "code",
   "execution_count": 20,
   "metadata": {},
   "outputs": [
    {
     "data": {
      "text/plain": [
       "2.0    18268\n",
       "3.0    16961\n",
       "1.0    13643\n",
       "4.0     7974\n",
       "0.0     3582\n",
       "Name: avg_cars_at home(approx), dtype: int64"
      ]
     },
     "execution_count": 20,
     "metadata": {},
     "output_type": "execute_result"
    }
   ],
   "source": [
    "df['avg_cars_at home(approx)'].value_counts()"
   ]
  },
  {
   "cell_type": "code",
   "execution_count": 21,
   "metadata": {},
   "outputs": [
    {
     "data": {
      "text/plain": [
       "$30K - $50K      19514\n",
       "$10K - $30K      12959\n",
       "$50K - $70K      10493\n",
       "$70K - $90K       7544\n",
       "$130K - $150K     3410\n",
       "$90K - $110K      2737\n",
       "$110K - $130K     2590\n",
       "$150K +           1181\n",
       "Name: avg. yearly_income, dtype: int64"
      ]
     },
     "execution_count": 21,
     "metadata": {},
     "output_type": "execute_result"
    }
   ],
   "source": [
    "df['avg. yearly_income'].value_counts()"
   ]
  },
  {
   "cell_type": "code",
   "execution_count": 22,
   "metadata": {},
   "outputs": [
    {
     "data": {
      "text/plain": [
       "0.0    37609\n",
       "1.0     8811\n",
       "2.0     5841\n",
       "3.0     4391\n",
       "4.0     2430\n",
       "5.0     1346\n",
       "Name: num_children_at_home, dtype: int64"
      ]
     },
     "execution_count": 22,
     "metadata": {},
     "output_type": "execute_result"
    }
   ],
   "source": [
    "df['num_children_at_home'].value_counts()"
   ]
  },
  {
   "cell_type": "code",
   "execution_count": 23,
   "metadata": {},
   "outputs": [
    {
     "data": {
      "text/plain": [
       "2.0    18268\n",
       "3.0    16961\n",
       "1.0    13643\n",
       "4.0     7974\n",
       "0.0     3582\n",
       "Name: avg_cars_at home(approx).1, dtype: int64"
      ]
     },
     "execution_count": 23,
     "metadata": {},
     "output_type": "execute_result"
    }
   ],
   "source": [
    "df['avg_cars_at home(approx).1'].value_counts()"
   ]
  },
  {
   "cell_type": "code",
   "execution_count": 24,
   "metadata": {},
   "outputs": [
    {
     "data": {
      "text/plain": [
       "Hermanos     1839\n",
       "Ebony        1729\n",
       "Tell Tale    1728\n",
       "Tri-State    1633\n",
       "High Top     1592\n",
       "             ... \n",
       "ADJ            56\n",
       "Symphony       49\n",
       "Prelude        45\n",
       "Toretti        39\n",
       "King           36\n",
       "Name: brand_name, Length: 111, dtype: int64"
      ]
     },
     "execution_count": 24,
     "metadata": {},
     "output_type": "execute_result"
    }
   ],
   "source": [
    "df['brand_name'].value_counts()"
   ]
  },
  {
   "cell_type": "code",
   "execution_count": 25,
   "metadata": {},
   "outputs": [
    {
     "data": {
      "text/plain": [
       "2.65    585\n",
       "2.47    558\n",
       "2.59    465\n",
       "1.68    453\n",
       "2.70    414\n",
       "       ... \n",
       "3.77     38\n",
       "3.22     38\n",
       "3.54     37\n",
       "3.28     35\n",
       "3.65     32\n",
       "Name: SRP, Length: 315, dtype: int64"
      ]
     },
     "execution_count": 25,
     "metadata": {},
     "output_type": "execute_result"
    }
   ],
   "source": [
    "df['SRP'].value_counts()"
   ]
  },
  {
   "cell_type": "code",
   "execution_count": 26,
   "metadata": {},
   "outputs": [
    {
     "data": {
      "text/plain": [
       "17.10    704\n",
       "19.90    624\n",
       "14.70    621\n",
       "17.20    588\n",
       "20.90    563\n",
       "        ... \n",
       "6.91      27\n",
       "6.35      27\n",
       "8.13      24\n",
       "7.80      24\n",
       "8.70      24\n",
       "Name: gross_weight, Length: 376, dtype: int64"
      ]
     },
     "execution_count": 26,
     "metadata": {},
     "output_type": "execute_result"
    }
   ],
   "source": [
    "media['gross_weight'].value_counts()"
   ]
  },
  {
   "cell_type": "code",
   "execution_count": 27,
   "metadata": {},
   "outputs": [
    {
     "data": {
      "text/plain": [
       "16.20    1001\n",
       "11.60     951\n",
       "10.60     904\n",
       "11.10     814\n",
       "16.70     809\n",
       "         ... \n",
       "5.85       29\n",
       "8.43       29\n",
       "5.34       27\n",
       "3.90       27\n",
       "7.13       24\n",
       "Name: net_weight, Length: 332, dtype: int64"
      ]
     },
     "execution_count": 27,
     "metadata": {},
     "output_type": "execute_result"
    }
   ],
   "source": [
    "df['net_weight'].value_counts()"
   ]
  },
  {
   "cell_type": "code",
   "execution_count": 28,
   "metadata": {},
   "outputs": [
    {
     "data": {
      "text/plain": [
       "1.0    33759\n",
       "0.0    26669\n",
       "Name: recyclable_package, dtype: int64"
      ]
     },
     "execution_count": 28,
     "metadata": {},
     "output_type": "execute_result"
    }
   ],
   "source": [
    "df['recyclable_package'].value_counts()"
   ]
  },
  {
   "cell_type": "code",
   "execution_count": 29,
   "metadata": {},
   "outputs": [
    {
     "data": {
      "text/plain": [
       "0.0    39252\n",
       "1.0    21176\n",
       "Name: low_fat, dtype: int64"
      ]
     },
     "execution_count": 29,
     "metadata": {},
     "output_type": "execute_result"
    }
   ],
   "source": [
    "df['low_fat'].value_counts()"
   ]
  },
  {
   "cell_type": "code",
   "execution_count": 30,
   "metadata": {},
   "outputs": [
    {
     "data": {
      "text/plain": [
       "29.0    2294\n",
       "6.0     2285\n",
       "33.0    2217\n",
       "31.0    2107\n",
       "23.0    2085\n",
       "30.0    2073\n",
       "26.0    2013\n",
       "25.0    1993\n",
       "5.0     1958\n",
       "9.0     1950\n",
       "3.0     1877\n",
       "13.0    1783\n",
       "34.0    1740\n",
       "19.0    1670\n",
       "21.0    1667\n",
       "14.0    1658\n",
       "24.0    1647\n",
       "22.0    1641\n",
       "27.0    1632\n",
       "32.0    1607\n",
       "35.0    1577\n",
       "17.0    1576\n",
       "4.0     1573\n",
       "2.0     1558\n",
       "15.0    1548\n",
       "28.0    1536\n",
       "20.0    1509\n",
       "11.0    1484\n",
       "7.0     1480\n",
       "16.0    1440\n",
       "18.0    1419\n",
       "10.0    1387\n",
       "12.0    1379\n",
       "8.0     1364\n",
       "1.0      952\n",
       "36.0     749\n",
       "Name: units_per_case, dtype: int64"
      ]
     },
     "execution_count": 30,
     "metadata": {},
     "output_type": "execute_result"
    }
   ],
   "source": [
    "df['units_per_case'].value_counts()"
   ]
  },
  {
   "cell_type": "code",
   "execution_count": 31,
   "metadata": {},
   "outputs": [
    {
     "data": {
      "text/plain": [
       "Supermarket            26192\n",
       "Deluxe Supermarket     22954\n",
       "Gourmet Supermarket     6503\n",
       "Mid-Size Grocery        2846\n",
       "Small Grocery           1933\n",
       "Name: store_type, dtype: int64"
      ]
     },
     "execution_count": 31,
     "metadata": {},
     "output_type": "execute_result"
    }
   ],
   "source": [
    "df['store_type'].value_counts()"
   ]
  },
  {
   "cell_type": "code",
   "execution_count": 32,
   "metadata": {},
   "outputs": [
    {
     "data": {
      "text/plain": [
       "Tacoma           5704\n",
       "Salem            5478\n",
       "Portland         5150\n",
       "Seattle          5051\n",
       "Hidalgo          4761\n",
       "Merida           4498\n",
       "Spokane          4453\n",
       "Beverly Hills    4151\n",
       "Los Angeles      3960\n",
       "Bremerton        3451\n",
       "Vancouver        3384\n",
       "Orizaba          2621\n",
       "Camacho          2352\n",
       "Acapulco         1506\n",
       "Mexico City      1395\n",
       "San Francisco     783\n",
       "Bellingham        711\n",
       "Victoria          580\n",
       "Guadalajara       439\n",
       "Name: store_city, dtype: int64"
      ]
     },
     "execution_count": 32,
     "metadata": {},
     "output_type": "execute_result"
    }
   ],
   "source": [
    "df['store_city'].value_counts()"
   ]
  },
  {
   "cell_type": "code",
   "execution_count": 33,
   "metadata": {},
   "outputs": [
    {
     "data": {
      "text/plain": [
       "WA           19370\n",
       "OR           10628\n",
       "CA            8894\n",
       "Zacatecas     7113\n",
       "Yucatan       4498\n",
       "BC            3964\n",
       "Veracruz      2621\n",
       "Guerrero      1506\n",
       "DF            1395\n",
       "Jalisco        439\n",
       "Name: store_state, dtype: int64"
      ]
     },
     "execution_count": 33,
     "metadata": {},
     "output_type": "execute_result"
    }
   ],
   "source": [
    "df['store_state'].value_counts()"
   ]
  },
  {
   "cell_type": "code",
   "execution_count": 34,
   "metadata": {},
   "outputs": [
    {
     "data": {
      "text/plain": [
       "33858.0    5704\n",
       "27694.0    5478\n",
       "20319.0    5150\n",
       "21215.0    5051\n",
       "30797.0    4498\n",
       "30268.0    4453\n",
       "23688.0    4151\n",
       "23598.0    3960\n",
       "30584.0    3890\n",
       "39696.0    3451\n",
       "23112.0    3384\n",
       "34791.0    2621\n",
       "23759.0    2352\n",
       "23593.0    1506\n",
       "36509.0    1395\n",
       "38382.0     871\n",
       "22478.0     783\n",
       "28206.0     711\n",
       "34452.0     580\n",
       "24597.0     439\n",
       "Name: store_sqft, dtype: int64"
      ]
     },
     "execution_count": 34,
     "metadata": {},
     "output_type": "execute_result"
    }
   ],
   "source": [
    "df['store_sqft'].value_counts()"
   ]
  },
  {
   "cell_type": "code",
   "execution_count": 35,
   "metadata": {},
   "outputs": [
    {
     "data": {
      "text/plain": [
       "22123.0    5704\n",
       "18670.0    5478\n",
       "16232.0    5150\n",
       "13305.0    5051\n",
       "20141.0    4498\n",
       "22063.0    4453\n",
       "15337.0    4151\n",
       "14210.0    3960\n",
       "21938.0    3890\n",
       "24390.0    3451\n",
       "16418.0    3384\n",
       "26354.0    2621\n",
       "16844.0    2352\n",
       "17475.0    1506\n",
       "22450.0    1395\n",
       "30351.0     871\n",
       "15321.0     783\n",
       "22271.0     711\n",
       "27463.0     580\n",
       "15012.0     439\n",
       "Name: grocery_sqft, dtype: int64"
      ]
     },
     "execution_count": 35,
     "metadata": {},
     "output_type": "execute_result"
    }
   ],
   "source": [
    "df['grocery_sqft'].value_counts()"
   ]
  },
  {
   "cell_type": "code",
   "execution_count": 36,
   "metadata": {},
   "outputs": [
    {
     "data": {
      "text/plain": [
       "7041.0    5704\n",
       "5415.0    5478\n",
       "2452.0    5150\n",
       "4746.0    5051\n",
       "6393.0    4498\n",
       "4923.0    4453\n",
       "5011.0    4151\n",
       "5633.0    3960\n",
       "5188.0    3890\n",
       "9184.0    3451\n",
       "4016.0    3384\n",
       "5062.0    2621\n",
       "4149.0    2352\n",
       "3671.0    1506\n",
       "8435.0    1395\n",
       "4819.0     871\n",
       "4294.0     783\n",
       "3561.0     711\n",
       "4193.0     580\n",
       "5751.0     439\n",
       "Name: frozen_sqft, dtype: int64"
      ]
     },
     "execution_count": 36,
     "metadata": {},
     "output_type": "execute_result"
    }
   ],
   "source": [
    "df['frozen_sqft'].value_counts()"
   ]
  },
  {
   "cell_type": "code",
   "execution_count": 37,
   "metadata": {},
   "outputs": [
    {
     "data": {
      "text/plain": [
       "4694.0    5704\n",
       "3610.0    5478\n",
       "1635.0    5150\n",
       "3164.0    5051\n",
       "4262.0    4498\n",
       "3282.0    4453\n",
       "3340.0    4151\n",
       "3755.0    3960\n",
       "3458.0    3890\n",
       "6122.0    3451\n",
       "2678.0    3384\n",
       "3375.0    2621\n",
       "2766.0    2352\n",
       "2447.0    1506\n",
       "5624.0    1395\n",
       "3213.0     871\n",
       "2863.0     783\n",
       "2374.0     711\n",
       "2795.0     580\n",
       "3834.0     439\n",
       "Name: meat_sqft, dtype: int64"
      ]
     },
     "execution_count": 37,
     "metadata": {},
     "output_type": "execute_result"
    }
   ],
   "source": [
    "df['meat_sqft'].value_counts()"
   ]
  },
  {
   "cell_type": "code",
   "execution_count": 38,
   "metadata": {},
   "outputs": [
    {
     "data": {
      "text/plain": [
       "1.0    37021\n",
       "0.0    23407\n",
       "Name: coffee_bar, dtype: int64"
      ]
     },
     "execution_count": 38,
     "metadata": {},
     "output_type": "execute_result"
    }
   ],
   "source": [
    "df['coffee_bar'].value_counts()"
   ]
  },
  {
   "cell_type": "code",
   "execution_count": 39,
   "metadata": {},
   "outputs": [
    {
     "data": {
      "text/plain": [
       "0.0    39027\n",
       "1.0    21401\n",
       "Name: video_store, dtype: int64"
      ]
     },
     "execution_count": 39,
     "metadata": {},
     "output_type": "execute_result"
    }
   ],
   "source": [
    "df['video_store'].value_counts()"
   ]
  },
  {
   "cell_type": "code",
   "execution_count": 40,
   "metadata": {},
   "outputs": [
    {
     "data": {
      "text/plain": [
       "1.0    35529\n",
       "0.0    24899\n",
       "Name: salad_bar, dtype: int64"
      ]
     },
     "execution_count": 40,
     "metadata": {},
     "output_type": "execute_result"
    }
   ],
   "source": [
    "df['salad_bar'].value_counts()"
   ]
  },
  {
   "cell_type": "code",
   "execution_count": 41,
   "metadata": {},
   "outputs": [
    {
     "data": {
      "text/plain": [
       "1.0    35529\n",
       "0.0    24899\n",
       "Name: prepared_food, dtype: int64"
      ]
     },
     "execution_count": 41,
     "metadata": {},
     "output_type": "execute_result"
    }
   ],
   "source": [
    "df['prepared_food'].value_counts()"
   ]
  },
  {
   "cell_type": "code",
   "execution_count": 42,
   "metadata": {},
   "outputs": [
    {
     "data": {
      "text/plain": [
       "1.0    33997\n",
       "0.0    26431\n",
       "Name: florist, dtype: int64"
      ]
     },
     "execution_count": 42,
     "metadata": {},
     "output_type": "execute_result"
    }
   ],
   "source": [
    "df['florist'].value_counts()"
   ]
  },
  {
   "cell_type": "code",
   "execution_count": 43,
   "metadata": {},
   "outputs": [
    {
     "data": {
      "text/plain": [
       "Daily Paper, Radio         6820\n",
       "Product Attachment         5371\n",
       "Daily Paper, Radio, TV     5284\n",
       "Daily Paper                5119\n",
       "Street Handout             5069\n",
       "Radio                      4980\n",
       "Sunday Paper               4859\n",
       "In-Store Coupon            4495\n",
       "Sunday Paper, Radio        4050\n",
       "Cash Register Handout      4002\n",
       "TV                         3576\n",
       "Bulk Mail                  3457\n",
       "Sunday Paper, Radio, TV    3346\n",
       "Name: media_type, dtype: int64"
      ]
     },
     "execution_count": 43,
     "metadata": {},
     "output_type": "execute_result"
    }
   ],
   "source": [
    "df['media_type'].value_counts()"
   ]
  },
  {
   "cell_type": "code",
   "execution_count": 44,
   "metadata": {},
   "outputs": [
    {
     "data": {
      "text/plain": [
       "101.84    839\n",
       "69.63     763\n",
       "59.86     726\n",
       "81.79     698\n",
       "131.81    619\n",
       "         ... \n",
       "101.57     14\n",
       "77.70      13\n",
       "101.75     13\n",
       "69.15      11\n",
       "84.11      10\n",
       "Name: cost, Length: 328, dtype: int64"
      ]
     },
     "execution_count": 44,
     "metadata": {},
     "output_type": "execute_result"
    }
   ],
   "source": [
    "df['cost'].value_counts()"
   ]
  },
  {
   "cell_type": "code",
   "execution_count": null,
   "metadata": {},
   "outputs": [],
   "source": []
  }
 ],
 "metadata": {
  "kernelspec": {
   "display_name": "tensorflow",
   "language": "python",
   "name": "tensorflow"
  },
  "language_info": {
   "codemirror_mode": {
    "name": "ipython",
    "version": 3
   },
   "file_extension": ".py",
   "mimetype": "text/x-python",
   "name": "python",
   "nbconvert_exporter": "python",
   "pygments_lexer": "ipython3",
   "version": "3.9.12"
  },
  "orig_nbformat": 4,
  "vscode": {
   "interpreter": {
    "hash": "a5387b9da968551e43e0ccab31c37bebadc093c630309dcd510e17231b5b064a"
   }
  }
 },
 "nbformat": 4,
 "nbformat_minor": 2
}
